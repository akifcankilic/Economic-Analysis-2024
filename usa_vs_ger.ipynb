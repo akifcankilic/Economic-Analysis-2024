{
  "nbformat": 4,
  "nbformat_minor": 0,
  "metadata": {
    "colab": {
      "provenance": [],
      "authorship_tag": "ABX9TyOg06lbVI0vJ9af9VnW9uhY",
      "include_colab_link": true
    },
    "kernelspec": {
      "name": "python3",
      "display_name": "Python 3"
    },
    "language_info": {
      "name": "python"
    }
  },
  "cells": [
    {
      "cell_type": "markdown",
      "metadata": {
        "id": "view-in-github",
        "colab_type": "text"
      },
      "source": [
        "<a href=\"https://colab.research.google.com/github/akifcankilic/Economic-Analysis-2024/blob/main/usa_vs_ger.ipynb\" target=\"_parent\"><img src=\"https://colab.research.google.com/assets/colab-badge.svg\" alt=\"Open In Colab\"/></a>"
      ]
    },
    {
      "cell_type": "code",
      "execution_count": 13,
      "metadata": {
        "colab": {
          "base_uri": "https://localhost:8080/",
          "height": 542
        },
        "id": "Amdmgu5VhNXf",
        "outputId": "030ba952-a1a2-4f51-9579-e901bc6fc108"
      },
      "outputs": [
        {
          "output_type": "display_data",
          "data": {
            "text/html": [
              "<html>\n",
              "<head><meta charset=\"utf-8\" /></head>\n",
              "<body>\n",
              "    <div>            <script src=\"https://cdnjs.cloudflare.com/ajax/libs/mathjax/2.7.5/MathJax.js?config=TeX-AMS-MML_SVG\"></script><script type=\"text/javascript\">if (window.MathJax && window.MathJax.Hub && window.MathJax.Hub.Config) {window.MathJax.Hub.Config({SVG: {font: \"STIX-Web\"}});}</script>                <script type=\"text/javascript\">window.PlotlyConfig = {MathJaxConfig: 'local'};</script>\n",
              "        <script charset=\"utf-8\" src=\"https://cdn.plot.ly/plotly-2.24.1.min.js\"></script>                <div id=\"4a82cbcb-85e9-4566-a84d-24bc7512a15e\" class=\"plotly-graph-div\" style=\"height:525px; width:100%;\"></div>            <script type=\"text/javascript\">                                    window.PLOTLYENV=window.PLOTLYENV || {};                                    if (document.getElementById(\"4a82cbcb-85e9-4566-a84d-24bc7512a15e\")) {                    Plotly.newPlot(                        \"4a82cbcb-85e9-4566-a84d-24bc7512a15e\",                        [{\"line\":{\"color\":\"blue\"},\"mode\":\"lines+markers\",\"name\":\"Ekonomik B\\u00fcy\\u00fcme (%) - ABD\",\"x\":[2019,2020,2021,2022,2023],\"y\":[2.3,-3.4,5.7,2.1,2.1],\"type\":\"scatter\"},{\"line\":{\"color\":\"orange\"},\"mode\":\"lines+markers\",\"name\":\"Borsa B\\u00fcy\\u00fcme (S&P 500) (%) - ABD\",\"x\":[2019,2020,2021,2022,2023],\"y\":[28.9,16.3,26.9,-18.1,15.5],\"type\":\"scatter\"},{\"line\":{\"color\":\"green\"},\"mode\":\"lines+markers\",\"name\":\"Teknoloji (S&P 500 IT) (%) - ABD\",\"x\":[2019,2020,2021,2022,2023],\"y\":[40.1,42.4,34.5,-28.2,45.0],\"type\":\"scatter\"},{\"line\":{\"color\":\"red\"},\"mode\":\"lines+markers\",\"name\":\"Enerji (S&P 500 Energy) (%) - ABD\",\"x\":[2019,2020,2021,2022,2023],\"y\":[11.8,-33.7,54.6,53.3,-1.3],\"type\":\"scatter\"},{\"line\":{\"color\":\"purple\"},\"mode\":\"lines+markers\",\"name\":\"Sa\\u011fl\\u0131k (S&P 500 Health Care) (%) - ABD\",\"x\":[2019,2020,2021,2022,2023],\"y\":[20.8,13.5,24.5,-2.7,10.1],\"type\":\"scatter\"},{\"line\":{\"color\":\"red\"},\"mode\":\"lines+markers\",\"name\":\"Ekonomik B\\u00fcy\\u00fcme (%) - Almanya\",\"x\":[2019,2020,2021,2022,2023],\"y\":[1.08,-3.83,3.16,1.81,0.31],\"type\":\"scatter\"},{\"line\":{\"color\":\"blue\"},\"mode\":\"lines+markers\",\"name\":\"Borsa B\\u00fcy\\u00fcme (DAX) (%) - Almanya\",\"x\":[2019,2020,2021,2022,2023],\"y\":[25.5,3.5,15.8,-12.3,16.5],\"type\":\"scatter\"},{\"line\":{\"color\":\"green\"},\"mode\":\"lines+markers\",\"name\":\"Teknoloji (DAX Tech) (%) - Almanya\",\"x\":[2019,2020,2021,2022,2023],\"y\":[35.7,22.1,16.9,-21.0,30.2],\"type\":\"scatter\"},{\"line\":{\"color\":\"orange\"},\"mode\":\"lines+markers\",\"name\":\"Enerji (DAX Energy) (%) - Almanya\",\"x\":[2019,2020,2021,2022,2023],\"y\":[8.2,-25.4,47.0,29.8,5.6],\"type\":\"scatter\"},{\"line\":{\"color\":\"purple\"},\"mode\":\"lines+markers\",\"name\":\"Sa\\u011fl\\u0131k (DAX Health Care) (%) - Almanya\",\"x\":[2019,2020,2021,2022,2023],\"y\":[18.7,9.3,21.5,-7.9,12.4],\"type\":\"scatter\"}],                        {\"template\":{\"data\":{\"histogram2dcontour\":[{\"type\":\"histogram2dcontour\",\"colorbar\":{\"outlinewidth\":0,\"ticks\":\"\"},\"colorscale\":[[0.0,\"#0d0887\"],[0.1111111111111111,\"#46039f\"],[0.2222222222222222,\"#7201a8\"],[0.3333333333333333,\"#9c179e\"],[0.4444444444444444,\"#bd3786\"],[0.5555555555555556,\"#d8576b\"],[0.6666666666666666,\"#ed7953\"],[0.7777777777777778,\"#fb9f3a\"],[0.8888888888888888,\"#fdca26\"],[1.0,\"#f0f921\"]]}],\"choropleth\":[{\"type\":\"choropleth\",\"colorbar\":{\"outlinewidth\":0,\"ticks\":\"\"}}],\"histogram2d\":[{\"type\":\"histogram2d\",\"colorbar\":{\"outlinewidth\":0,\"ticks\":\"\"},\"colorscale\":[[0.0,\"#0d0887\"],[0.1111111111111111,\"#46039f\"],[0.2222222222222222,\"#7201a8\"],[0.3333333333333333,\"#9c179e\"],[0.4444444444444444,\"#bd3786\"],[0.5555555555555556,\"#d8576b\"],[0.6666666666666666,\"#ed7953\"],[0.7777777777777778,\"#fb9f3a\"],[0.8888888888888888,\"#fdca26\"],[1.0,\"#f0f921\"]]}],\"heatmap\":[{\"type\":\"heatmap\",\"colorbar\":{\"outlinewidth\":0,\"ticks\":\"\"},\"colorscale\":[[0.0,\"#0d0887\"],[0.1111111111111111,\"#46039f\"],[0.2222222222222222,\"#7201a8\"],[0.3333333333333333,\"#9c179e\"],[0.4444444444444444,\"#bd3786\"],[0.5555555555555556,\"#d8576b\"],[0.6666666666666666,\"#ed7953\"],[0.7777777777777778,\"#fb9f3a\"],[0.8888888888888888,\"#fdca26\"],[1.0,\"#f0f921\"]]}],\"heatmapgl\":[{\"type\":\"heatmapgl\",\"colorbar\":{\"outlinewidth\":0,\"ticks\":\"\"},\"colorscale\":[[0.0,\"#0d0887\"],[0.1111111111111111,\"#46039f\"],[0.2222222222222222,\"#7201a8\"],[0.3333333333333333,\"#9c179e\"],[0.4444444444444444,\"#bd3786\"],[0.5555555555555556,\"#d8576b\"],[0.6666666666666666,\"#ed7953\"],[0.7777777777777778,\"#fb9f3a\"],[0.8888888888888888,\"#fdca26\"],[1.0,\"#f0f921\"]]}],\"contourcarpet\":[{\"type\":\"contourcarpet\",\"colorbar\":{\"outlinewidth\":0,\"ticks\":\"\"}}],\"contour\":[{\"type\":\"contour\",\"colorbar\":{\"outlinewidth\":0,\"ticks\":\"\"},\"colorscale\":[[0.0,\"#0d0887\"],[0.1111111111111111,\"#46039f\"],[0.2222222222222222,\"#7201a8\"],[0.3333333333333333,\"#9c179e\"],[0.4444444444444444,\"#bd3786\"],[0.5555555555555556,\"#d8576b\"],[0.6666666666666666,\"#ed7953\"],[0.7777777777777778,\"#fb9f3a\"],[0.8888888888888888,\"#fdca26\"],[1.0,\"#f0f921\"]]}],\"surface\":[{\"type\":\"surface\",\"colorbar\":{\"outlinewidth\":0,\"ticks\":\"\"},\"colorscale\":[[0.0,\"#0d0887\"],[0.1111111111111111,\"#46039f\"],[0.2222222222222222,\"#7201a8\"],[0.3333333333333333,\"#9c179e\"],[0.4444444444444444,\"#bd3786\"],[0.5555555555555556,\"#d8576b\"],[0.6666666666666666,\"#ed7953\"],[0.7777777777777778,\"#fb9f3a\"],[0.8888888888888888,\"#fdca26\"],[1.0,\"#f0f921\"]]}],\"mesh3d\":[{\"type\":\"mesh3d\",\"colorbar\":{\"outlinewidth\":0,\"ticks\":\"\"}}],\"scatter\":[{\"fillpattern\":{\"fillmode\":\"overlay\",\"size\":10,\"solidity\":0.2},\"type\":\"scatter\"}],\"parcoords\":[{\"type\":\"parcoords\",\"line\":{\"colorbar\":{\"outlinewidth\":0,\"ticks\":\"\"}}}],\"scatterpolargl\":[{\"type\":\"scatterpolargl\",\"marker\":{\"colorbar\":{\"outlinewidth\":0,\"ticks\":\"\"}}}],\"bar\":[{\"error_x\":{\"color\":\"#2a3f5f\"},\"error_y\":{\"color\":\"#2a3f5f\"},\"marker\":{\"line\":{\"color\":\"#E5ECF6\",\"width\":0.5},\"pattern\":{\"fillmode\":\"overlay\",\"size\":10,\"solidity\":0.2}},\"type\":\"bar\"}],\"scattergeo\":[{\"type\":\"scattergeo\",\"marker\":{\"colorbar\":{\"outlinewidth\":0,\"ticks\":\"\"}}}],\"scatterpolar\":[{\"type\":\"scatterpolar\",\"marker\":{\"colorbar\":{\"outlinewidth\":0,\"ticks\":\"\"}}}],\"histogram\":[{\"marker\":{\"pattern\":{\"fillmode\":\"overlay\",\"size\":10,\"solidity\":0.2}},\"type\":\"histogram\"}],\"scattergl\":[{\"type\":\"scattergl\",\"marker\":{\"colorbar\":{\"outlinewidth\":0,\"ticks\":\"\"}}}],\"scatter3d\":[{\"type\":\"scatter3d\",\"line\":{\"colorbar\":{\"outlinewidth\":0,\"ticks\":\"\"}},\"marker\":{\"colorbar\":{\"outlinewidth\":0,\"ticks\":\"\"}}}],\"scattermapbox\":[{\"type\":\"scattermapbox\",\"marker\":{\"colorbar\":{\"outlinewidth\":0,\"ticks\":\"\"}}}],\"scatterternary\":[{\"type\":\"scatterternary\",\"marker\":{\"colorbar\":{\"outlinewidth\":0,\"ticks\":\"\"}}}],\"scattercarpet\":[{\"type\":\"scattercarpet\",\"marker\":{\"colorbar\":{\"outlinewidth\":0,\"ticks\":\"\"}}}],\"carpet\":[{\"aaxis\":{\"endlinecolor\":\"#2a3f5f\",\"gridcolor\":\"white\",\"linecolor\":\"white\",\"minorgridcolor\":\"white\",\"startlinecolor\":\"#2a3f5f\"},\"baxis\":{\"endlinecolor\":\"#2a3f5f\",\"gridcolor\":\"white\",\"linecolor\":\"white\",\"minorgridcolor\":\"white\",\"startlinecolor\":\"#2a3f5f\"},\"type\":\"carpet\"}],\"table\":[{\"cells\":{\"fill\":{\"color\":\"#EBF0F8\"},\"line\":{\"color\":\"white\"}},\"header\":{\"fill\":{\"color\":\"#C8D4E3\"},\"line\":{\"color\":\"white\"}},\"type\":\"table\"}],\"barpolar\":[{\"marker\":{\"line\":{\"color\":\"#E5ECF6\",\"width\":0.5},\"pattern\":{\"fillmode\":\"overlay\",\"size\":10,\"solidity\":0.2}},\"type\":\"barpolar\"}],\"pie\":[{\"automargin\":true,\"type\":\"pie\"}]},\"layout\":{\"autotypenumbers\":\"strict\",\"colorway\":[\"#636efa\",\"#EF553B\",\"#00cc96\",\"#ab63fa\",\"#FFA15A\",\"#19d3f3\",\"#FF6692\",\"#B6E880\",\"#FF97FF\",\"#FECB52\"],\"font\":{\"color\":\"#2a3f5f\"},\"hovermode\":\"closest\",\"hoverlabel\":{\"align\":\"left\"},\"paper_bgcolor\":\"white\",\"plot_bgcolor\":\"#E5ECF6\",\"polar\":{\"bgcolor\":\"#E5ECF6\",\"angularaxis\":{\"gridcolor\":\"white\",\"linecolor\":\"white\",\"ticks\":\"\"},\"radialaxis\":{\"gridcolor\":\"white\",\"linecolor\":\"white\",\"ticks\":\"\"}},\"ternary\":{\"bgcolor\":\"#E5ECF6\",\"aaxis\":{\"gridcolor\":\"white\",\"linecolor\":\"white\",\"ticks\":\"\"},\"baxis\":{\"gridcolor\":\"white\",\"linecolor\":\"white\",\"ticks\":\"\"},\"caxis\":{\"gridcolor\":\"white\",\"linecolor\":\"white\",\"ticks\":\"\"}},\"coloraxis\":{\"colorbar\":{\"outlinewidth\":0,\"ticks\":\"\"}},\"colorscale\":{\"sequential\":[[0.0,\"#0d0887\"],[0.1111111111111111,\"#46039f\"],[0.2222222222222222,\"#7201a8\"],[0.3333333333333333,\"#9c179e\"],[0.4444444444444444,\"#bd3786\"],[0.5555555555555556,\"#d8576b\"],[0.6666666666666666,\"#ed7953\"],[0.7777777777777778,\"#fb9f3a\"],[0.8888888888888888,\"#fdca26\"],[1.0,\"#f0f921\"]],\"sequentialminus\":[[0.0,\"#0d0887\"],[0.1111111111111111,\"#46039f\"],[0.2222222222222222,\"#7201a8\"],[0.3333333333333333,\"#9c179e\"],[0.4444444444444444,\"#bd3786\"],[0.5555555555555556,\"#d8576b\"],[0.6666666666666666,\"#ed7953\"],[0.7777777777777778,\"#fb9f3a\"],[0.8888888888888888,\"#fdca26\"],[1.0,\"#f0f921\"]],\"diverging\":[[0,\"#8e0152\"],[0.1,\"#c51b7d\"],[0.2,\"#de77ae\"],[0.3,\"#f1b6da\"],[0.4,\"#fde0ef\"],[0.5,\"#f7f7f7\"],[0.6,\"#e6f5d0\"],[0.7,\"#b8e186\"],[0.8,\"#7fbc41\"],[0.9,\"#4d9221\"],[1,\"#276419\"]]},\"xaxis\":{\"gridcolor\":\"white\",\"linecolor\":\"white\",\"ticks\":\"\",\"title\":{\"standoff\":15},\"zerolinecolor\":\"white\",\"automargin\":true,\"zerolinewidth\":2},\"yaxis\":{\"gridcolor\":\"white\",\"linecolor\":\"white\",\"ticks\":\"\",\"title\":{\"standoff\":15},\"zerolinecolor\":\"white\",\"automargin\":true,\"zerolinewidth\":2},\"scene\":{\"xaxis\":{\"backgroundcolor\":\"#E5ECF6\",\"gridcolor\":\"white\",\"linecolor\":\"white\",\"showbackground\":true,\"ticks\":\"\",\"zerolinecolor\":\"white\",\"gridwidth\":2},\"yaxis\":{\"backgroundcolor\":\"#E5ECF6\",\"gridcolor\":\"white\",\"linecolor\":\"white\",\"showbackground\":true,\"ticks\":\"\",\"zerolinecolor\":\"white\",\"gridwidth\":2},\"zaxis\":{\"backgroundcolor\":\"#E5ECF6\",\"gridcolor\":\"white\",\"linecolor\":\"white\",\"showbackground\":true,\"ticks\":\"\",\"zerolinecolor\":\"white\",\"gridwidth\":2}},\"shapedefaults\":{\"line\":{\"color\":\"#2a3f5f\"}},\"annotationdefaults\":{\"arrowcolor\":\"#2a3f5f\",\"arrowhead\":0,\"arrowwidth\":1},\"geo\":{\"bgcolor\":\"white\",\"landcolor\":\"#E5ECF6\",\"subunitcolor\":\"white\",\"showland\":true,\"showlakes\":true,\"lakecolor\":\"white\"},\"title\":{\"x\":0.05},\"mapbox\":{\"style\":\"light\"}}},\"updatemenus\":[{\"active\":0,\"buttons\":[{\"args\":[{\"visible\":[true,true,true,true,true,true,true,true,true,true]},{\"line.color\":[\"blue\",\"orange\",\"green\",\"red\",\"purple\",\"red\",\"blue\",\"green\",\"orange\",\"purple\"],\"title\":\"ABD ve Almanya Ekonomik Verileri ve Sekt\\u00f6r B\\u00fcy\\u00fcmeleri (2019-2023)\"}],\"label\":\"ABD & Almanya\",\"method\":\"update\"},{\"args\":[{\"visible\":[true,true,true,true,true,false,false,false,false,false]},{\"title\":\"ABD Ekonomik Verileri ve Sekt\\u00f6r B\\u00fcy\\u00fcmeleri (2019-2023)\"}],\"label\":\"Sadece ABD\",\"method\":\"update\"},{\"args\":[{\"visible\":[false,false,false,false,false,true,true,true,true,true]},{\"title\":\"Almanya Ekonomik Verileri ve Sekt\\u00f6r B\\u00fcy\\u00fcmeleri (2019-2023)\"}],\"label\":\"Sadece Almanya\",\"method\":\"update\"}],\"direction\":\"down\",\"showactive\":true,\"type\":\"dropdown\"}],\"title\":{\"text\":\"ABD ve Almanya Ekonomik Verileri ve Sekt\\u00f6r B\\u00fcy\\u00fcmeleri (2019-2023)\"},\"xaxis\":{\"title\":{\"text\":\"Y\\u0131l\"}},\"yaxis\":{\"title\":{\"text\":\"Oran (%)\"}},\"hovermode\":\"x unified\"},                        {\"responsive\": true}                    ).then(function(){\n",
              "                            \n",
              "var gd = document.getElementById('4a82cbcb-85e9-4566-a84d-24bc7512a15e');\n",
              "var x = new MutationObserver(function (mutations, observer) {{\n",
              "        var display = window.getComputedStyle(gd).display;\n",
              "        if (!display || display === 'none') {{\n",
              "            console.log([gd, 'removed!']);\n",
              "            Plotly.purge(gd);\n",
              "            observer.disconnect();\n",
              "        }}\n",
              "}});\n",
              "\n",
              "// Listen for the removal of the full notebook cells\n",
              "var notebookContainer = gd.closest('#notebook-container');\n",
              "if (notebookContainer) {{\n",
              "    x.observe(notebookContainer, {childList: true});\n",
              "}}\n",
              "\n",
              "// Listen for the clearing of the current output cell\n",
              "var outputEl = gd.closest('.output');\n",
              "if (outputEl) {{\n",
              "    x.observe(outputEl, {childList: true});\n",
              "}}\n",
              "\n",
              "                        })                };                            </script>        </div>\n",
              "</body>\n",
              "</html>"
            ]
          },
          "metadata": {}
        }
      ],
      "source": [
        "import pandas as pd\n",
        "import plotly.graph_objects as go\n",
        "\n",
        "# ABD verileri\n",
        "data_usa = {\n",
        "    'Yıl': [2019, 2020, 2021, 2022, 2023],\n",
        "    'Ekonomik Büyüme (%)': [2.3, -3.4, 5.7, 2.1, 2.1],\n",
        "    'Borsa Büyüme (S&P 500) (%)': [28.9, 16.3, 26.9, -18.1, 15.5],\n",
        "    'Teknoloji (S&P 500 IT) (%)': [40.1, 42.4, 34.5, -28.2, 45.0],\n",
        "    'Enerji (S&P 500 Energy) (%)': [11.8, -33.7, 54.6, 53.3, -1.3],\n",
        "    'Sağlık (S&P 500 Health Care) (%)': [20.8, 13.5, 24.5, -2.7, 10.1]\n",
        "}\n",
        "\n",
        "# Almanya verileri\n",
        "data_germany = {\n",
        "    'Yıl': [2019, 2020, 2021, 2022, 2023],\n",
        "    'Ekonomik Büyüme (%)': [1.08, -3.83, 3.16, 1.81, 0.31],\n",
        "    'Borsa Büyüme (DAX) (%)': [25.5, 3.5, 15.8, -12.3, 16.5],\n",
        "    'Teknoloji (DAX Tech) (%)': [35.7, 22.1, 16.9, -21.0, 30.2],\n",
        "    'Enerji (DAX Energy) (%)': [8.2, -25.4, 47.0, 29.8, 5.6],\n",
        "    'Sağlık (DAX Health Care) (%)': [18.7, 9.3, 21.5, -7.9, 12.4]\n",
        "}\n",
        "\n",
        "# DataFrame'leri oluşturma\n",
        "df_usa = pd.DataFrame(data_usa)\n",
        "df_germany = pd.DataFrame(data_germany)\n",
        "\n",
        "# Grafiği oluşturma\n",
        "fig = go.Figure()\n",
        "\n",
        "# ABD verilerini ekleme - farklı renklerle\n",
        "fig.add_trace(go.Scatter(x=df_usa['Yıl'], y=df_usa['Ekonomik Büyüme (%)'], mode='lines+markers', name='Ekonomik Büyüme (%) - ABD', line=dict(color='blue')))\n",
        "fig.add_trace(go.Scatter(x=df_usa['Yıl'], y=df_usa['Borsa Büyüme (S&P 500) (%)'], mode='lines+markers', name='Borsa Büyüme (S&P 500) (%) - ABD', line=dict(color='orange')))\n",
        "fig.add_trace(go.Scatter(x=df_usa['Yıl'], y=df_usa['Teknoloji (S&P 500 IT) (%)'], mode='lines+markers', name='Teknoloji (S&P 500 IT) (%) - ABD', line=dict(color='green')))\n",
        "fig.add_trace(go.Scatter(x=df_usa['Yıl'], y=df_usa['Enerji (S&P 500 Energy) (%)'], mode='lines+markers', name='Enerji (S&P 500 Energy) (%) - ABD', line=dict(color='red')))\n",
        "fig.add_trace(go.Scatter(x=df_usa['Yıl'], y=df_usa['Sağlık (S&P 500 Health Care) (%)'], mode='lines+markers', name='Sağlık (S&P 500 Health Care) (%) - ABD', line=dict(color='purple')))\n",
        "\n",
        "# Almanya verilerini ekleme - farklı renklerle\n",
        "fig.add_trace(go.Scatter(x=df_germany['Yıl'], y=df_germany['Ekonomik Büyüme (%)'], mode='lines+markers', name='Ekonomik Büyüme (%) - Almanya', line=dict(color='red')))\n",
        "fig.add_trace(go.Scatter(x=df_germany['Yıl'], y=df_germany['Borsa Büyüme (DAX) (%)'], mode='lines+markers', name='Borsa Büyüme (DAX) (%) - Almanya', line=dict(color='blue')))\n",
        "fig.add_trace(go.Scatter(x=df_germany['Yıl'], y=df_germany['Teknoloji (DAX Tech) (%)'], mode='lines+markers', name='Teknoloji (DAX Tech) (%) - Almanya', line=dict(color='green')))\n",
        "fig.add_trace(go.Scatter(x=df_germany['Yıl'], y=df_germany['Enerji (DAX Energy) (%)'], mode='lines+markers', name='Enerji (DAX Energy) (%) - Almanya', line=dict(color='orange')))\n",
        "fig.add_trace(go.Scatter(x=df_germany['Yıl'], y=df_germany['Sağlık (DAX Health Care) (%)'], mode='lines+markers', name='Sağlık (DAX Health Care) (%) - Almanya', line=dict(color='purple')))\n",
        "\n",
        "# Drop-down menü seçenekleri için renk ayarları\n",
        "fig.update_layout(\n",
        "    updatemenus=[\n",
        "        dict(\n",
        "            type=\"dropdown\",\n",
        "            active=0,\n",
        "            buttons=list([\n",
        "                dict(label=\"ABD & Almanya\",\n",
        "                     method=\"update\",\n",
        "                     args=[{\"visible\": [True, True, True, True, True, True, True, True, True, True]},\n",
        "                           {\"line.color\": ['blue', 'orange', 'green', 'red', 'purple', 'red', 'blue', 'green', 'orange', 'purple'],\n",
        "                            \"title\": \"ABD ve Almanya Ekonomik Verileri ve Sektör Büyümeleri (2019-2023)\"}]),\n",
        "                dict(label=\"Sadece ABD\",\n",
        "                     method=\"update\",\n",
        "                     args=[{\"visible\": [True, True, True, True, True, False, False, False, False, False]},\n",
        "                           {\"title\": \"ABD Ekonomik Verileri ve Sektör Büyümeleri (2019-2023)\"}]),\n",
        "                dict(label=\"Sadece Almanya\",\n",
        "                     method=\"update\",\n",
        "                     args=[{\"visible\": [False, False, False, False, False, True, True, True, True, True]},\n",
        "                           {\"title\": \"Almanya Ekonomik Verileri ve Sektör Büyümeleri (2019-2023)\"}])\n",
        "            ]),\n",
        "            direction=\"down\",\n",
        "            showactive=True,\n",
        "        )\n",
        "    ])\n",
        "\n",
        "# Grafik başlığı ve etiketler\n",
        "fig.update_layout(title='ABD ve Almanya Ekonomik Verileri ve Sektör Büyümeleri (2019-2023)',\n",
        "                   xaxis_title='Yıl',\n",
        "                   yaxis_title='Oran (%)',\n",
        "                   hovermode=\"x unified\")\n",
        "\n",
        "# Grafiği göster\n",
        "fig.show()\n"
      ]
    }
  ]
}